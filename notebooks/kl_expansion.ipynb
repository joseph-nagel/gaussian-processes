{
 "cells": [
  {
   "cell_type": "markdown",
   "id": "d1a377eb-f2fe-4093-b937-570197634f99",
   "metadata": {},
   "source": [
    "# Karhunen-Loève expansion\n",
    "\n",
    "One may decompose certain stochastic processes into a bi-orthogonal series of uncorrelated and variance-ordered random variables. Such a **Karhunen-Loève expansion** (KLE) provides insights and lends itself to dimension reduction and simulation. Its discrete variant is demonstrated in the cells below. It is analogous to a **population PCA**. Note this representation is not specific to Gaussian processes in particular. It relates square-integrable stochastic processes in general."
   ]
  },
  {
   "cell_type": "code",
   "execution_count": null,
   "id": "1f5a7829-32b0-4a51-8e89-6a06f1ada761",
   "metadata": {},
   "outputs": [],
   "source": [
    "%matplotlib inline\n",
    "\n",
    "import sys\n",
    "sys.path.append('..')"
   ]
  },
  {
   "cell_type": "code",
   "execution_count": null,
   "id": "edc3e3e5-2eb1-4145-a5df-d3467079722f",
   "metadata": {},
   "outputs": [],
   "source": [
    "import matplotlib.pyplot as plt\n",
    "import torch\n",
    "import torch.distributions as dist\n",
    "\n",
    "from utils.kernels import SquaredExponential"
   ]
  },
  {
   "cell_type": "code",
   "execution_count": null,
   "id": "94b891d4-afbb-48d2-a46a-d76626e0211c",
   "metadata": {},
   "outputs": [],
   "source": [
    "torch.set_default_dtype(torch.float64)"
   ]
  },
  {
   "cell_type": "markdown",
   "id": "4c1ccf50-5287-4d4d-8301-43657b56b9e2",
   "metadata": {},
   "source": [
    "## Covariance matrix"
   ]
  },
  {
   "cell_type": "code",
   "execution_count": null,
   "id": "c5d95592-9690-47e4-afe1-1e344b43e087",
   "metadata": {},
   "outputs": [],
   "source": [
    "lower = -10\n",
    "upper = 10\n",
    "num_coords = 101\n",
    "\n",
    "coords = torch.linspace(lower, upper, num_coords)"
   ]
  },
  {
   "cell_type": "code",
   "execution_count": null,
   "id": "78b60d5e-0ea2-4fe1-a384-3b6d73f65e9c",
   "metadata": {},
   "outputs": [],
   "source": [
    "sigma = 1 # standard deviation\n",
    "tau = 1 # lengthscale parameter\n",
    "\n",
    "kernel_rbf = SquaredExponential(sigma=sigma, tau=tau)\n",
    "cov_rbf = kernel_rbf(coords, coords)"
   ]
  },
  {
   "cell_type": "markdown",
   "id": "f89d0529-a430-4219-915e-1ba7611400d5",
   "metadata": {},
   "source": [
    "## Eigenvalues/vectors"
   ]
  },
  {
   "cell_type": "code",
   "execution_count": null,
   "id": "e0e57eec-5395-44f0-95fe-c82dc35f3f40",
   "metadata": {},
   "outputs": [],
   "source": [
    "eigenvalues, eigenvectors = torch.linalg.eigh(cov_rbf) # ascending order\n",
    "\n",
    "descending_ids = torch.argsort(eigenvalues, descending=True) # descending order\n",
    "eigenvalues = eigenvalues[descending_ids]\n",
    "eigenvectors = eigenvectors[:,descending_ids]\n",
    "\n",
    "explained_var = torch.cumsum(eigenvalues, dim=0) / torch.sum(eigenvalues)"
   ]
  },
  {
   "cell_type": "code",
   "execution_count": null,
   "id": "783fec43-9f48-4f72-a4d1-e6032304da6c",
   "metadata": {},
   "outputs": [],
   "source": [
    "fig, axes = plt.subplots(nrows=1, ncols=2, figsize=(9, 3))\n",
    "\n",
    "axes[0].plot(eigenvalues.numpy(), marker='.', color=plt.cm.Dark2(4), alpha=0.7, clip_on=False)\n",
    "axes[0].set(xlabel='component', ylabel='eigenvalue')\n",
    "axes[0].set_xlim((0, len(eigenvalues)-1))\n",
    "axes[0].set_ylim((0, eigenvalues.max()))\n",
    "\n",
    "axes[1].plot(explained_var.numpy(), marker='.', color=plt.cm.Dark2(4), alpha=0.7, clip_on=False)\n",
    "axes[1].set(xlabel='no. components', ylabel='explained var. ratio')\n",
    "axes[1].set_xlim((0, len(explained_var)-1))\n",
    "axes[1].set_ylim((0, 1))\n",
    "\n",
    "for ax in axes.ravel():\n",
    "    ax.grid(visible=True, which='both', color='lightgray', linestyle='-')\n",
    "    ax.set_axisbelow(True)\n",
    "\n",
    "fig.tight_layout()"
   ]
  },
  {
   "cell_type": "code",
   "execution_count": null,
   "id": "5174a251-3cdb-4287-914f-6402ac684a9a",
   "metadata": {},
   "outputs": [],
   "source": [
    "fig, ax = plt.subplots(figsize=(6, 4))\n",
    "ax.plot(coords.numpy(), eigenvectors[:,:5].numpy(), alpha=0.7)\n",
    "ax.set(xlabel='coordinate', ylabel='value')\n",
    "ax.set_xlim((coords[0], coords[-1]))\n",
    "ax.grid(visible=True, which='both', color='lightgray', linestyle='-')\n",
    "ax.set_axisbelow(True)\n",
    "fig.tight_layout()"
   ]
  },
  {
   "cell_type": "markdown",
   "id": "a9ca40cb-c01b-4768-aad6-ab3edd2d2a04",
   "metadata": {},
   "source": [
    "## Simulation"
   ]
  },
  {
   "cell_type": "code",
   "execution_count": null,
   "id": "b965d16c-7abb-4c32-832f-1fd7a0d1269e",
   "metadata": {},
   "outputs": [],
   "source": [
    "num_components = 25\n",
    "\n",
    "retained_eigenvalues = eigenvalues[:num_components]\n",
    "retained_eigenvectors = eigenvectors[:,:num_components]"
   ]
  },
  {
   "cell_type": "code",
   "execution_count": null,
   "id": "d12fef72-61e3-431f-bccd-f0217b184496",
   "metadata": {},
   "outputs": [],
   "source": [
    "num_samples = 10\n",
    "\n",
    "normal_samples = dist.Normal(\n",
    "    loc=torch.zeros_like(retained_eigenvalues),\n",
    "    scale=torch.sqrt(retained_eigenvalues)\n",
    ").sample((num_samples,))\n",
    "\n",
    "samples = normal_samples @ retained_eigenvectors.T"
   ]
  },
  {
   "cell_type": "code",
   "execution_count": null,
   "id": "d1e32cab-5e74-436c-82dd-1063b77a818d",
   "metadata": {},
   "outputs": [],
   "source": [
    "fig, ax = plt.subplots(figsize=(6, 4))\n",
    "ax.plot(coords.numpy(), samples.T.numpy(), alpha=0.7)\n",
    "ax.set(xlabel='coordinate', ylabel='value')\n",
    "ax.set_xlim((coords[0], coords[-1]))\n",
    "ax.grid(visible=True, which='both', color='lightgray', linestyle='-')\n",
    "ax.set_axisbelow(True)\n",
    "fig.tight_layout()"
   ]
  }
 ],
 "metadata": {
  "kernelspec": {
   "display_name": "Python 3 (ipykernel)",
   "language": "python",
   "name": "python3"
  },
  "language_info": {
   "codemirror_mode": {
    "name": "ipython",
    "version": 3
   },
   "file_extension": ".py",
   "mimetype": "text/x-python",
   "name": "python",
   "nbconvert_exporter": "python",
   "pygments_lexer": "ipython3",
   "version": "3.11.5"
  }
 },
 "nbformat": 4,
 "nbformat_minor": 5
}
