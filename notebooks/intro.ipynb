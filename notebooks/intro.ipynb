{
 "cells": [
  {
   "cell_type": "markdown",
   "id": "b2395a60",
   "metadata": {},
   "source": [
    "# Gaussian processes\n",
    "\n",
    "This notebook contains a short **Gaussian process** (GPs) intro. A GP is defined by a **mean function** and a **covariance function**. We start by comparing different isotropic kernels that can be used as covariance functions. This involves the **squared exponential** (radial basis function), the **absolute exponential** (Ornstein-Uhlenbeck) and the **Matérn kernel**. The properties of the GP heavily depend on the chosen kernel. This is demonstrated hereafter by simulating sample paths from GPs with different covariance functions."
   ]
  },
  {
   "cell_type": "code",
   "execution_count": null,
   "id": "1f4544dd",
   "metadata": {},
   "outputs": [],
   "source": [
    "%matplotlib inline\n",
    "\n",
    "import sys\n",
    "sys.path.append('..')"
   ]
  },
  {
   "cell_type": "code",
   "execution_count": null,
   "id": "dced51d2",
   "metadata": {},
   "outputs": [],
   "source": [
    "import matplotlib.pyplot as plt\n",
    "import torch\n",
    "import torch.distributions as dist\n",
    "import gpytorch\n",
    "\n",
    "from utils.kernels import (\n",
    "    SquaredExponential,\n",
    "    AbsoluteExponential\n",
    ")"
   ]
  },
  {
   "cell_type": "code",
   "execution_count": null,
   "id": "cc23ffc7",
   "metadata": {},
   "outputs": [],
   "source": [
    "torch.set_default_dtype(torch.float64)"
   ]
  },
  {
   "cell_type": "markdown",
   "id": "e0f63971",
   "metadata": {},
   "source": [
    "## Covariance matrices"
   ]
  },
  {
   "cell_type": "code",
   "execution_count": null,
   "id": "d86bb306",
   "metadata": {},
   "outputs": [],
   "source": [
    "lower = -10\n",
    "upper = 10\n",
    "num_coords = 101\n",
    "\n",
    "coords = torch.linspace(lower, upper, num_coords)"
   ]
  },
  {
   "cell_type": "code",
   "execution_count": null,
   "id": "e3396d6c",
   "metadata": {},
   "outputs": [],
   "source": [
    "sigma = 1 # standard deviation\n",
    "tau = 1 # lengthscale parameter\n",
    "\n",
    "kernel_rbf = SquaredExponential(sigma=sigma, tau=tau)\n",
    "cov_rbf = kernel_rbf(coords, coords)\n",
    "\n",
    "kernel_ou = AbsoluteExponential(sigma=sigma, tau=tau)\n",
    "cov_ou = kernel_ou(coords, coords)"
   ]
  },
  {
   "cell_type": "code",
   "execution_count": null,
   "id": "0caef8ac",
   "metadata": {},
   "outputs": [],
   "source": [
    "nu = 2.5 # smoothness parameter\n",
    "\n",
    "kernel_matern = gpytorch.kernels.ScaleKernel(\n",
    "    gpytorch.kernels.MaternKernel(nu=nu)\n",
    ")\n",
    "kernel_matern.outputscale = sigma\n",
    "kernel_matern.base_kernel.lengthscale = tau\n",
    "\n",
    "for p in kernel_matern.parameters():\n",
    "    p.requires_grad = False\n",
    "\n",
    "cov_matern = kernel_matern(coords, coords).evaluate()"
   ]
  },
  {
   "cell_type": "code",
   "execution_count": null,
   "id": "e046a7e4",
   "metadata": {},
   "outputs": [],
   "source": [
    "cov_dict = {\n",
    "    'RBF': cov_rbf,\n",
    "    'OU': cov_ou,\n",
    "    'Matern': cov_matern\n",
    "}\n",
    "\n",
    "fig, axes = plt.subplots(nrows=1, ncols=3, figsize=(9, 2.5))\n",
    "imgs = []\n",
    "for ax, (key, cov) in zip(axes.ravel(), cov_dict.items()):\n",
    "    img = ax.matshow(cov.numpy(), cmap='viridis', vmin=0)\n",
    "    ax.set_aspect('equal', adjustable='box')\n",
    "    ax.set_title(key)\n",
    "    imgs.append(img)\n",
    "for ax, img in zip(axes, imgs):\n",
    "    fig.colorbar(img, ax=ax)\n",
    "fig.tight_layout()"
   ]
  },
  {
   "cell_type": "markdown",
   "id": "ec6f6a7e",
   "metadata": {},
   "source": [
    "## Sampling"
   ]
  },
  {
   "cell_type": "code",
   "execution_count": null,
   "id": "7fd069a5",
   "metadata": {},
   "outputs": [],
   "source": [
    "num_samples = 10\n",
    "\n",
    "samples_rbf = dist.MultivariateNormal(\n",
    "    loc=torch.zeros_like(coords),\n",
    "    covariance_matrix=cov_rbf + 1e-07*torch.eye(num_coords)\n",
    ").sample((num_samples,))\n",
    "\n",
    "samples_ou = dist.MultivariateNormal(\n",
    "    loc=torch.zeros_like(coords),\n",
    "    covariance_matrix=cov_ou + 1e-07*torch.eye(num_coords)\n",
    ").sample((num_samples,))\n",
    "\n",
    "samples_matern = dist.MultivariateNormal(\n",
    "    loc=torch.zeros_like(coords),\n",
    "    covariance_matrix=cov_matern\n",
    ").sample((num_samples,))"
   ]
  },
  {
   "cell_type": "code",
   "execution_count": null,
   "id": "54c871be",
   "metadata": {},
   "outputs": [],
   "source": [
    "samples_dict = {\n",
    "    'RBF': samples_rbf,\n",
    "    'OU': samples_ou,\n",
    "    'Matern': samples_matern\n",
    "}\n",
    "\n",
    "fig, axes = plt.subplots(nrows=3, ncols=1, figsize=(6, 12))\n",
    "for ax, (key, samples) in zip(axes.ravel(), samples_dict.items()):    \n",
    "    ax.plot(coords.numpy(), samples.T.numpy(), alpha=0.7)\n",
    "    ax.set(xlabel='coordinate', ylabel='value')\n",
    "    ax.set_xlim((coords[0], coords[-1]))\n",
    "    ax.grid(visible=True, which='both', color='lightgray', linestyle='-')\n",
    "    ax.set_axisbelow(True)\n",
    "    ax.set_title(key)\n",
    "fig.tight_layout()"
   ]
  }
 ],
 "metadata": {
  "kernelspec": {
   "display_name": "Python 3 (ipykernel)",
   "language": "python",
   "name": "python3"
  },
  "language_info": {
   "codemirror_mode": {
    "name": "ipython",
    "version": 3
   },
   "file_extension": ".py",
   "mimetype": "text/x-python",
   "name": "python",
   "nbconvert_exporter": "python",
   "pygments_lexer": "ipython3",
   "version": "3.11.5"
  }
 },
 "nbformat": 4,
 "nbformat_minor": 5
}
