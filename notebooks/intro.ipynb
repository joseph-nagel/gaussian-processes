{
 "cells": [
  {
   "cell_type": "markdown",
   "id": "b2395a60",
   "metadata": {},
   "source": [
    "# Gaussian processes\n",
    "\n",
    "A **Gaussian process** (GP) is a continuously indexed collection of random variables, such that every finite subset thereof follows a **multivariate normal** (MVN) **distribution**. Let $\\boldsymbol{x} \\in \\mathbb{R}^d$ represent a $d$-dimensional continuous index, e.g. a spatial coordinate. A GP $\\{f(\\boldsymbol{x}) | \\boldsymbol{x} \\in \\mathbb{R}^d\\}$ is then defined by a **mean function** $m(\\boldsymbol{x})$ and a **covariance function** $k(\\boldsymbol{x}, \\boldsymbol{x}^\\prime)$. One usually writes\n",
    "$$\n",
    "f(\\boldsymbol{x}) \\sim\n",
    "\\mathcal{GP} \\left( m(\\boldsymbol{x}), k(\\boldsymbol{x}, \\boldsymbol{x}^\\prime) \\right).\n",
    "$$\n",
    "For every finite collection of indices $\\{\\boldsymbol{x}_i\\}_{i=1}^n$ one has that $\\boldsymbol{f} = (f(\\boldsymbol{x}_1), \\ldots, f(\\boldsymbol{x}_n))^\\top \\sim \\mathcal{N}(\\boldsymbol{\\mu}, \\boldsymbol{\\Sigma})$ is jointly normal. Here, the elements of the mean vector and the covariance matrix are respectively given as $\\mu_i = m(\\boldsymbol{x}_i)$ and $\\Sigma_{ij} = k(\\boldsymbol{x}_i, \\boldsymbol{x}_j)$ for $i,j=1,\\ldots,n$.\n",
    "\n",
    "In a certain sense, a GP is a generalization of a MVN distribution to infinitely many dimensions. It can be viewed as a distribution over functions. This allows for quantifying the uncertainty of an unknown function in a Bayesian setting.\n",
    "\n",
    "The properties of a GP heavily depend on the chosen covariance kernel. Some of the most common kernel families are the **squared exponential** (radial basis function), **absolute exponential** (Ornstein-Uhlenbeck) and the **Matérn kernel**. The former two kernels can be written as\n",
    "$$\n",
    "\\begin{align*}\n",
    "k_{\\mathrm{RBF}}(\\boldsymbol{x}, \\boldsymbol{x}^\\prime) &=\n",
    "\\sigma^2 \\exp \\left( - \\frac{\\lVert \\boldsymbol{x} - \\boldsymbol{x}^\\prime \\rVert_2^2}{2 \\ell^2} \\right), \\\\\n",
    "k_{\\mathrm{OU}}(\\boldsymbol{x}, \\boldsymbol{x}^\\prime) &=\n",
    "\\sigma^2 \\exp \\left( - \\frac{\\lVert \\boldsymbol{x} - \\boldsymbol{x}^\\prime \\rVert_2}{\\ell} \\right).\n",
    "\\end{align*}\n",
    "$$\n",
    "They are isotropic in the sense that they are a function of the distance $\\lVert \\boldsymbol{x} - \\boldsymbol{x}^\\prime \\rVert_2$ only. Moreover, they contain a variance $\\sigma^2 > 0$ and a lengthscale parameter $\\ell > 0$. The influence on the GP is hereafter shortly demonstrated by simulating sample paths from GPs with different covariance functions."
   ]
  },
  {
   "cell_type": "code",
   "execution_count": null,
   "id": "1f4544dd",
   "metadata": {},
   "outputs": [],
   "source": [
    "%load_ext autoreload\n",
    "%autoreload 2\n",
    "%matplotlib inline\n",
    "\n",
    "import sys\n",
    "sys.path.append('..')"
   ]
  },
  {
   "cell_type": "code",
   "execution_count": null,
   "id": "dced51d2",
   "metadata": {},
   "outputs": [],
   "source": [
    "import matplotlib.pyplot as plt\n",
    "import torch\n",
    "import torch.distributions as dist\n",
    "import gpytorch\n",
    "\n",
    "from utils.kernels import (\n",
    "    SquaredExponential,\n",
    "    AbsoluteExponential\n",
    ")"
   ]
  },
  {
   "cell_type": "code",
   "execution_count": null,
   "id": "cc23ffc7",
   "metadata": {},
   "outputs": [],
   "source": [
    "torch.set_default_dtype(torch.float64)"
   ]
  },
  {
   "cell_type": "markdown",
   "id": "e0f63971",
   "metadata": {},
   "source": [
    "## Setup"
   ]
  },
  {
   "cell_type": "code",
   "execution_count": null,
   "id": "d86bb306",
   "metadata": {},
   "outputs": [],
   "source": [
    "lower = -10\n",
    "upper = 10\n",
    "num_coords = 101\n",
    "\n",
    "coords = torch.linspace(lower, upper, num_coords)"
   ]
  },
  {
   "cell_type": "code",
   "execution_count": null,
   "id": "e3396d6c",
   "metadata": {},
   "outputs": [],
   "source": [
    "sigma = 1 # standard deviation\n",
    "length = 1 # lengthscale parameter\n",
    "\n",
    "kernel_rbf = SquaredExponential(sigma, length)\n",
    "kernel_ou = AbsoluteExponential(sigma, length)"
   ]
  },
  {
   "cell_type": "code",
   "execution_count": null,
   "id": "cdf2380e-1094-47d2-86c0-21b3c524b531",
   "metadata": {},
   "outputs": [],
   "source": [
    "nu = 2.5 # smoothness parameter\n",
    "\n",
    "kernel_matern = gpytorch.kernels.ScaleKernel(\n",
    "    gpytorch.kernels.MaternKernel(nu=nu)\n",
    ")\n",
    "\n",
    "kernel_matern.outputscale = sigma\n",
    "kernel_matern.base_kernel.lengthscale = length\n",
    "\n",
    "for p in kernel_matern.parameters():\n",
    "    p.requires_grad = False"
   ]
  },
  {
   "cell_type": "markdown",
   "id": "959ad980-e40b-4d8a-b7fe-bc11c72b7521",
   "metadata": {},
   "source": [
    "## Kernel functions"
   ]
  },
  {
   "cell_type": "code",
   "execution_count": null,
   "id": "50418ab6-0381-4ca6-bcbd-1cac1ca31640",
   "metadata": {},
   "outputs": [],
   "source": [
    "x_values = torch.linspace(coords.min(), coords.max(), 1001)\n",
    "\n",
    "y_values_rbf = kernel_rbf.kernel(x_values)\n",
    "y_values_ou = kernel_ou.kernel(x_values)\n",
    "y_values_matern = kernel_matern(x_values, x_values).evaluate()[x_values.abs().argmin()]"
   ]
  },
  {
   "cell_type": "code",
   "execution_count": null,
   "id": "c5138995-f374-488d-b953-20d037e6f960",
   "metadata": {},
   "outputs": [],
   "source": [
    "kernel_dict = {\n",
    "    'RBF': y_values_rbf,\n",
    "    'OU': y_values_ou,\n",
    "    'Matern': y_values_matern\n",
    "}\n",
    "\n",
    "fig, axes = plt.subplots(nrows=1, ncols=3, figsize=(9, 2.5))\n",
    "for ax, (key, y_values) in zip(axes.ravel(), kernel_dict.items()):\n",
    "    ax.plot(x_values.numpy(), y_values.numpy(), alpha=0.7, clip_on=False)\n",
    "    ax.set(xlabel='distance', ylabel='value')\n",
    "    ax.set_xlim((x_values.min(), x_values.max()))\n",
    "    ax.set_ylim((0, y_values.max()))\n",
    "    ax.grid(visible=True, which='both', color='lightgray', linestyle='-')\n",
    "    ax.set_axisbelow(True)\n",
    "    ax.set_title(key)\n",
    "fig.tight_layout()"
   ]
  },
  {
   "cell_type": "markdown",
   "id": "06eab966-f5ca-4c42-8b4b-b5e6521edd5a",
   "metadata": {},
   "source": [
    "## Covariance matrices"
   ]
  },
  {
   "cell_type": "code",
   "execution_count": null,
   "id": "b72be217-e5ee-4198-b8ef-ae98884a1d44",
   "metadata": {},
   "outputs": [],
   "source": [
    "cov_rbf = kernel_rbf(coords, coords)\n",
    "cov_ou = kernel_ou(coords, coords)\n",
    "cov_matern = kernel_matern(coords, coords).evaluate()"
   ]
  },
  {
   "cell_type": "code",
   "execution_count": null,
   "id": "e046a7e4",
   "metadata": {},
   "outputs": [],
   "source": [
    "cov_dict = {\n",
    "    'RBF': cov_rbf,\n",
    "    'OU': cov_ou,\n",
    "    'Matern': cov_matern\n",
    "}\n",
    "\n",
    "fig, axes = plt.subplots(nrows=1, ncols=3, figsize=(9, 2.5))\n",
    "imgs = []\n",
    "for ax, (key, cov) in zip(axes.ravel(), cov_dict.items()):\n",
    "    img = ax.matshow(cov.numpy(), cmap='viridis', vmin=0)\n",
    "    ax.set_aspect('equal', adjustable='box')\n",
    "    ax.set_title(key)\n",
    "    imgs.append(img)\n",
    "for ax, img in zip(axes, imgs):\n",
    "    fig.colorbar(img, ax=ax)\n",
    "fig.tight_layout()"
   ]
  },
  {
   "cell_type": "markdown",
   "id": "ec6f6a7e",
   "metadata": {},
   "source": [
    "## Sampling"
   ]
  },
  {
   "cell_type": "code",
   "execution_count": null,
   "id": "7fd069a5",
   "metadata": {},
   "outputs": [],
   "source": [
    "num_samples = 10\n",
    "\n",
    "samples_rbf = dist.MultivariateNormal(\n",
    "    loc=torch.zeros_like(coords),\n",
    "    covariance_matrix=cov_rbf + 1e-07*torch.eye(num_coords) # add nugget\n",
    ").sample((num_samples,))\n",
    "\n",
    "samples_ou = dist.MultivariateNormal(\n",
    "    loc=torch.zeros_like(coords),\n",
    "    covariance_matrix=cov_ou + 1e-07*torch.eye(num_coords) # add nugget\n",
    ").sample((num_samples,))\n",
    "\n",
    "samples_matern = dist.MultivariateNormal(\n",
    "    loc=torch.zeros_like(coords),\n",
    "    covariance_matrix=cov_matern\n",
    ").sample((num_samples,))"
   ]
  },
  {
   "cell_type": "code",
   "execution_count": null,
   "id": "54c871be",
   "metadata": {},
   "outputs": [],
   "source": [
    "samples_dict = {\n",
    "    'RBF': samples_rbf,\n",
    "    'OU': samples_ou,\n",
    "    'Matern': samples_matern\n",
    "}\n",
    "\n",
    "fig, axes = plt.subplots(nrows=3, ncols=1, figsize=(6, 12))\n",
    "for ax, (key, samples) in zip(axes.ravel(), samples_dict.items()):\n",
    "    ax.plot(coords.numpy(), samples.T.numpy(), alpha=0.7)\n",
    "    ax.set(xlabel='coordinate', ylabel='value')\n",
    "    ax.set_xlim((coords.min(), coords.max()))\n",
    "    ax.grid(visible=True, which='both', color='lightgray', linestyle='-')\n",
    "    ax.set_axisbelow(True)\n",
    "    ax.set_title(key)\n",
    "fig.tight_layout()"
   ]
  }
 ],
 "metadata": {
  "kernelspec": {
   "display_name": "Python 3 (ipykernel)",
   "language": "python",
   "name": "python3"
  },
  "language_info": {
   "codemirror_mode": {
    "name": "ipython",
    "version": 3
   },
   "file_extension": ".py",
   "mimetype": "text/x-python",
   "name": "python",
   "nbconvert_exporter": "python",
   "pygments_lexer": "ipython3",
   "version": "3.11.5"
  }
 },
 "nbformat": 4,
 "nbformat_minor": 5
}
